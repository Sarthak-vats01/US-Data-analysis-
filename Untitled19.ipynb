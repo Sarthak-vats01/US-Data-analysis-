{
  "cells": [
    {
      "cell_type": "markdown",
      "metadata": {
        "id": "view-in-github",
        "colab_type": "text"
      },
      "source": [
        "<a href=\"https://colab.research.google.com/github/Sarthak-vats01/US-Data-analysis-/blob/main/Untitled19.ipynb\" target=\"_parent\"><img src=\"https://colab.research.google.com/assets/colab-badge.svg\" alt=\"Open In Colab\"/></a>"
      ]
    },
    {
      "cell_type": "code",
      "execution_count": 4,
      "metadata": {
        "id": "2reD2CQ-_YbI"
      },
      "outputs": [],
      "source": [
        "import pandas as pd\n",
        "import numpy as np\n",
        "\n",
        "data=pd.read_csv(\"/content/US_Accidents_Dec21_updated.csv\")"
      ]
    },
    {
      "cell_type": "markdown",
      "metadata": {
        "id": "5eWmkoaJHWjD"
      },
      "source": [
        "Data preparation & cleaning"
      ]
    },
    {
      "cell_type": "code",
      "execution_count": 7,
      "metadata": {
        "colab": {
          "base_uri": "https://localhost:8080/",
          "height": 508
        },
        "id": "ETy2xkk4Hhea",
        "outputId": "32a20ce9-9908-4685-df33-bbcd38a135d2"
      },
      "outputs": [
        {
          "output_type": "execute_result",
          "data": {
            "text/plain": [
              "    ID  Severity           Start_Time             End_Time  Start_Lat  \\\n",
              "0  A-1         3  2016-02-08 00:37:08  2016-02-08 06:37:08  40.108910   \n",
              "1  A-2         2  2016-02-08 05:56:20  2016-02-08 11:56:20  39.865420   \n",
              "2  A-3         2  2016-02-08 06:15:39  2016-02-08 12:15:39  39.102660   \n",
              "3  A-4         2  2016-02-08 06:51:45  2016-02-08 12:51:45  41.062130   \n",
              "4  A-5         3  2016-02-08 07:53:43  2016-02-08 13:53:43  39.172393   \n",
              "\n",
              "   Start_Lng    End_Lat    End_Lng  Distance(mi)  \\\n",
              "0 -83.092860  40.112060 -83.031870         3.230   \n",
              "1 -84.062800  39.865010 -84.048730         0.747   \n",
              "2 -84.524680  39.102090 -84.523960         0.055   \n",
              "3 -81.537840  41.062170 -81.535470         0.123   \n",
              "4 -84.492792  39.170476 -84.501798         0.500   \n",
              "\n",
              "                                         Description  ...  Roundabout Station  \\\n",
              "0  Between Sawmill Rd/Exit 20 and OH-315/Olentang...  ...       False   False   \n",
              "1                 At OH-4/OH-235/Exit 41 - Accident.  ...       False   False   \n",
              "2                   At I-71/US-50/Exit 1 - Accident.  ...       False   False   \n",
              "3                    At Dart Ave/Exit 21 - Accident.  ...       False   False   \n",
              "4                 At Mitchell Ave/Exit 6 - Accident.  ...       False   False   \n",
              "\n",
              "    Stop Traffic_Calming Traffic_Signal Turning_Loop Sunrise_Sunset  \\\n",
              "0  False           False          False        False          Night   \n",
              "1  False           False          False        False          Night   \n",
              "2  False           False          False        False          Night   \n",
              "3  False           False          False        False          Night   \n",
              "4  False           False          False        False            Day   \n",
              "\n",
              "  Civil_Twilight Nautical_Twilight Astronomical_Twilight  \n",
              "0          Night             Night                 Night  \n",
              "1          Night             Night                 Night  \n",
              "2          Night             Night                   Day  \n",
              "3          Night               Day                   Day  \n",
              "4            Day               Day                   Day  \n",
              "\n",
              "[5 rows x 47 columns]"
            ],
            "text/html": [
              "\n",
              "  <div id=\"df-9c5fbf3c-0176-4540-be2a-518391c9972f\">\n",
              "    <div class=\"colab-df-container\">\n",
              "      <div>\n",
              "<style scoped>\n",
              "    .dataframe tbody tr th:only-of-type {\n",
              "        vertical-align: middle;\n",
              "    }\n",
              "\n",
              "    .dataframe tbody tr th {\n",
              "        vertical-align: top;\n",
              "    }\n",
              "\n",
              "    .dataframe thead th {\n",
              "        text-align: right;\n",
              "    }\n",
              "</style>\n",
              "<table border=\"1\" class=\"dataframe\">\n",
              "  <thead>\n",
              "    <tr style=\"text-align: right;\">\n",
              "      <th></th>\n",
              "      <th>ID</th>\n",
              "      <th>Severity</th>\n",
              "      <th>Start_Time</th>\n",
              "      <th>End_Time</th>\n",
              "      <th>Start_Lat</th>\n",
              "      <th>Start_Lng</th>\n",
              "      <th>End_Lat</th>\n",
              "      <th>End_Lng</th>\n",
              "      <th>Distance(mi)</th>\n",
              "      <th>Description</th>\n",
              "      <th>...</th>\n",
              "      <th>Roundabout</th>\n",
              "      <th>Station</th>\n",
              "      <th>Stop</th>\n",
              "      <th>Traffic_Calming</th>\n",
              "      <th>Traffic_Signal</th>\n",
              "      <th>Turning_Loop</th>\n",
              "      <th>Sunrise_Sunset</th>\n",
              "      <th>Civil_Twilight</th>\n",
              "      <th>Nautical_Twilight</th>\n",
              "      <th>Astronomical_Twilight</th>\n",
              "    </tr>\n",
              "  </thead>\n",
              "  <tbody>\n",
              "    <tr>\n",
              "      <th>0</th>\n",
              "      <td>A-1</td>\n",
              "      <td>3</td>\n",
              "      <td>2016-02-08 00:37:08</td>\n",
              "      <td>2016-02-08 06:37:08</td>\n",
              "      <td>40.108910</td>\n",
              "      <td>-83.092860</td>\n",
              "      <td>40.112060</td>\n",
              "      <td>-83.031870</td>\n",
              "      <td>3.230</td>\n",
              "      <td>Between Sawmill Rd/Exit 20 and OH-315/Olentang...</td>\n",
              "      <td>...</td>\n",
              "      <td>False</td>\n",
              "      <td>False</td>\n",
              "      <td>False</td>\n",
              "      <td>False</td>\n",
              "      <td>False</td>\n",
              "      <td>False</td>\n",
              "      <td>Night</td>\n",
              "      <td>Night</td>\n",
              "      <td>Night</td>\n",
              "      <td>Night</td>\n",
              "    </tr>\n",
              "    <tr>\n",
              "      <th>1</th>\n",
              "      <td>A-2</td>\n",
              "      <td>2</td>\n",
              "      <td>2016-02-08 05:56:20</td>\n",
              "      <td>2016-02-08 11:56:20</td>\n",
              "      <td>39.865420</td>\n",
              "      <td>-84.062800</td>\n",
              "      <td>39.865010</td>\n",
              "      <td>-84.048730</td>\n",
              "      <td>0.747</td>\n",
              "      <td>At OH-4/OH-235/Exit 41 - Accident.</td>\n",
              "      <td>...</td>\n",
              "      <td>False</td>\n",
              "      <td>False</td>\n",
              "      <td>False</td>\n",
              "      <td>False</td>\n",
              "      <td>False</td>\n",
              "      <td>False</td>\n",
              "      <td>Night</td>\n",
              "      <td>Night</td>\n",
              "      <td>Night</td>\n",
              "      <td>Night</td>\n",
              "    </tr>\n",
              "    <tr>\n",
              "      <th>2</th>\n",
              "      <td>A-3</td>\n",
              "      <td>2</td>\n",
              "      <td>2016-02-08 06:15:39</td>\n",
              "      <td>2016-02-08 12:15:39</td>\n",
              "      <td>39.102660</td>\n",
              "      <td>-84.524680</td>\n",
              "      <td>39.102090</td>\n",
              "      <td>-84.523960</td>\n",
              "      <td>0.055</td>\n",
              "      <td>At I-71/US-50/Exit 1 - Accident.</td>\n",
              "      <td>...</td>\n",
              "      <td>False</td>\n",
              "      <td>False</td>\n",
              "      <td>False</td>\n",
              "      <td>False</td>\n",
              "      <td>False</td>\n",
              "      <td>False</td>\n",
              "      <td>Night</td>\n",
              "      <td>Night</td>\n",
              "      <td>Night</td>\n",
              "      <td>Day</td>\n",
              "    </tr>\n",
              "    <tr>\n",
              "      <th>3</th>\n",
              "      <td>A-4</td>\n",
              "      <td>2</td>\n",
              "      <td>2016-02-08 06:51:45</td>\n",
              "      <td>2016-02-08 12:51:45</td>\n",
              "      <td>41.062130</td>\n",
              "      <td>-81.537840</td>\n",
              "      <td>41.062170</td>\n",
              "      <td>-81.535470</td>\n",
              "      <td>0.123</td>\n",
              "      <td>At Dart Ave/Exit 21 - Accident.</td>\n",
              "      <td>...</td>\n",
              "      <td>False</td>\n",
              "      <td>False</td>\n",
              "      <td>False</td>\n",
              "      <td>False</td>\n",
              "      <td>False</td>\n",
              "      <td>False</td>\n",
              "      <td>Night</td>\n",
              "      <td>Night</td>\n",
              "      <td>Day</td>\n",
              "      <td>Day</td>\n",
              "    </tr>\n",
              "    <tr>\n",
              "      <th>4</th>\n",
              "      <td>A-5</td>\n",
              "      <td>3</td>\n",
              "      <td>2016-02-08 07:53:43</td>\n",
              "      <td>2016-02-08 13:53:43</td>\n",
              "      <td>39.172393</td>\n",
              "      <td>-84.492792</td>\n",
              "      <td>39.170476</td>\n",
              "      <td>-84.501798</td>\n",
              "      <td>0.500</td>\n",
              "      <td>At Mitchell Ave/Exit 6 - Accident.</td>\n",
              "      <td>...</td>\n",
              "      <td>False</td>\n",
              "      <td>False</td>\n",
              "      <td>False</td>\n",
              "      <td>False</td>\n",
              "      <td>False</td>\n",
              "      <td>False</td>\n",
              "      <td>Day</td>\n",
              "      <td>Day</td>\n",
              "      <td>Day</td>\n",
              "      <td>Day</td>\n",
              "    </tr>\n",
              "  </tbody>\n",
              "</table>\n",
              "<p>5 rows × 47 columns</p>\n",
              "</div>\n",
              "      <button class=\"colab-df-convert\" onclick=\"convertToInteractive('df-9c5fbf3c-0176-4540-be2a-518391c9972f')\"\n",
              "              title=\"Convert this dataframe to an interactive table.\"\n",
              "              style=\"display:none;\">\n",
              "        \n",
              "  <svg xmlns=\"http://www.w3.org/2000/svg\" height=\"24px\"viewBox=\"0 0 24 24\"\n",
              "       width=\"24px\">\n",
              "    <path d=\"M0 0h24v24H0V0z\" fill=\"none\"/>\n",
              "    <path d=\"M18.56 5.44l.94 2.06.94-2.06 2.06-.94-2.06-.94-.94-2.06-.94 2.06-2.06.94zm-11 1L8.5 8.5l.94-2.06 2.06-.94-2.06-.94L8.5 2.5l-.94 2.06-2.06.94zm10 10l.94 2.06.94-2.06 2.06-.94-2.06-.94-.94-2.06-.94 2.06-2.06.94z\"/><path d=\"M17.41 7.96l-1.37-1.37c-.4-.4-.92-.59-1.43-.59-.52 0-1.04.2-1.43.59L10.3 9.45l-7.72 7.72c-.78.78-.78 2.05 0 2.83L4 21.41c.39.39.9.59 1.41.59.51 0 1.02-.2 1.41-.59l7.78-7.78 2.81-2.81c.8-.78.8-2.07 0-2.86zM5.41 20L4 18.59l7.72-7.72 1.47 1.35L5.41 20z\"/>\n",
              "  </svg>\n",
              "      </button>\n",
              "      \n",
              "  <style>\n",
              "    .colab-df-container {\n",
              "      display:flex;\n",
              "      flex-wrap:wrap;\n",
              "      gap: 12px;\n",
              "    }\n",
              "\n",
              "    .colab-df-convert {\n",
              "      background-color: #E8F0FE;\n",
              "      border: none;\n",
              "      border-radius: 50%;\n",
              "      cursor: pointer;\n",
              "      display: none;\n",
              "      fill: #1967D2;\n",
              "      height: 32px;\n",
              "      padding: 0 0 0 0;\n",
              "      width: 32px;\n",
              "    }\n",
              "\n",
              "    .colab-df-convert:hover {\n",
              "      background-color: #E2EBFA;\n",
              "      box-shadow: 0px 1px 2px rgba(60, 64, 67, 0.3), 0px 1px 3px 1px rgba(60, 64, 67, 0.15);\n",
              "      fill: #174EA6;\n",
              "    }\n",
              "\n",
              "    [theme=dark] .colab-df-convert {\n",
              "      background-color: #3B4455;\n",
              "      fill: #D2E3FC;\n",
              "    }\n",
              "\n",
              "    [theme=dark] .colab-df-convert:hover {\n",
              "      background-color: #434B5C;\n",
              "      box-shadow: 0px 1px 3px 1px rgba(0, 0, 0, 0.15);\n",
              "      filter: drop-shadow(0px 1px 2px rgba(0, 0, 0, 0.3));\n",
              "      fill: #FFFFFF;\n",
              "    }\n",
              "  </style>\n",
              "\n",
              "      <script>\n",
              "        const buttonEl =\n",
              "          document.querySelector('#df-9c5fbf3c-0176-4540-be2a-518391c9972f button.colab-df-convert');\n",
              "        buttonEl.style.display =\n",
              "          google.colab.kernel.accessAllowed ? 'block' : 'none';\n",
              "\n",
              "        async function convertToInteractive(key) {\n",
              "          const element = document.querySelector('#df-9c5fbf3c-0176-4540-be2a-518391c9972f');\n",
              "          const dataTable =\n",
              "            await google.colab.kernel.invokeFunction('convertToInteractive',\n",
              "                                                     [key], {});\n",
              "          if (!dataTable) return;\n",
              "\n",
              "          const docLinkHtml = 'Like what you see? Visit the ' +\n",
              "            '<a target=\"_blank\" href=https://colab.research.google.com/notebooks/data_table.ipynb>data table notebook</a>'\n",
              "            + ' to learn more about interactive tables.';\n",
              "          element.innerHTML = '';\n",
              "          dataTable['output_type'] = 'display_data';\n",
              "          await google.colab.output.renderOutput(dataTable, element);\n",
              "          const docLink = document.createElement('div');\n",
              "          docLink.innerHTML = docLinkHtml;\n",
              "          element.appendChild(docLink);\n",
              "        }\n",
              "      </script>\n",
              "    </div>\n",
              "  </div>\n",
              "  "
            ]
          },
          "metadata": {},
          "execution_count": 7
        }
      ],
      "source": [
        "df=data.copy()\n",
        "df.head()"
      ]
    },
    {
      "cell_type": "markdown",
      "metadata": {
        "id": "yZquwduoJ4Bb"
      },
      "source": []
    },
    {
      "cell_type": "markdown",
      "metadata": {
        "id": "j_v2RnZPIbkM"
      },
      "source": [
        "1) Missing values per column(descending order)?\n",
        "\n"
      ]
    },
    {
      "cell_type": "code",
      "execution_count": 8,
      "metadata": {
        "colab": {
          "base_uri": "https://localhost:8080/"
        },
        "id": "jAVVZlhvKhu_",
        "outputId": "52d346f6-c176-466c-a025-f32ffd117af6"
      },
      "outputs": [
        {
          "output_type": "execute_result",
          "data": {
            "text/plain": [
              "Precipitation(in)        5314\n",
              "Wind_Chill(F)            5111\n",
              "Number                   4637\n",
              "Wind_Speed(mph)           735\n",
              "Visibility(mi)             77\n",
              "Humidity(%)                58\n",
              "Weather_Condition          58\n",
              "Temperature(F)             54\n",
              "Pressure(in)               39\n",
              "Wind_Direction             29\n",
              "Weather_Timestamp          29\n",
              "Airport_Code                8\n",
              "Timezone                    7\n",
              "Zipcode                     7\n",
              "Nautical_Twilight           1\n",
              "Civil_Twilight              1\n",
              "Sunrise_Sunset              1\n",
              "Bump                        1\n",
              "Turning_Loop                1\n",
              "Traffic_Calming             1\n",
              "Stop                        1\n",
              "Crossing                    1\n",
              "Amenity                     1\n",
              "Junction                    1\n",
              "No_Exit                     1\n",
              "Railway                     1\n",
              "Roundabout                  1\n",
              "Traffic_Signal              1\n",
              "Station                     1\n",
              "Give_Way                    1\n",
              "Astronomical_Twilight       1\n",
              "Country                     1\n",
              "State                       1\n",
              "County                      1\n",
              "City                        1\n",
              "Side                        1\n",
              "Street                      1\n",
              "Description                 1\n",
              "Distance(mi)                1\n",
              "End_Lng                     1\n",
              "Severity                    0\n",
              "End_Lat                     0\n",
              "Start_Lng                   0\n",
              "Start_Lat                   0\n",
              "End_Time                    0\n",
              "Start_Time                  0\n",
              "ID                          0\n",
              "dtype: int64"
            ]
          },
          "metadata": {},
          "execution_count": 8
        }
      ],
      "source": [
        "missing_values=df.isna().sum().sort_values(ascending=False)\n",
        "missing_values"
      ]
    },
    {
      "cell_type": "markdown",
      "metadata": {
        "id": "uVrSZDLYKrT_"
      },
      "source": [
        "Percentage plot of missing values"
      ]
    },
    {
      "cell_type": "code",
      "execution_count": 9,
      "metadata": {
        "colab": {
          "base_uri": "https://localhost:8080/"
        },
        "id": "pmWc-MqKKwcQ",
        "outputId": "b98938ef-b071-4055-9cb9-a1ae22bdfddb"
      },
      "outputs": [
        {
          "output_type": "execute_result",
          "data": {
            "text/plain": [
              "Precipitation(in)        92.983377\n",
              "Wind_Chill(F)            89.431321\n",
              "Number                   81.137358\n",
              "Wind_Speed(mph)          12.860892\n",
              "Visibility(mi)            1.347332\n",
              "Humidity(%)               1.014873\n",
              "Weather_Condition         1.014873\n",
              "Temperature(F)            0.944882\n",
              "Pressure(in)              0.682415\n",
              "Wind_Direction            0.507437\n",
              "Weather_Timestamp         0.507437\n",
              "Airport_Code              0.139983\n",
              "Timezone                  0.122485\n",
              "Zipcode                   0.122485\n",
              "Nautical_Twilight         0.017498\n",
              "Civil_Twilight            0.017498\n",
              "Sunrise_Sunset            0.017498\n",
              "Bump                      0.017498\n",
              "Turning_Loop              0.017498\n",
              "Traffic_Calming           0.017498\n",
              "Stop                      0.017498\n",
              "Crossing                  0.017498\n",
              "Amenity                   0.017498\n",
              "Junction                  0.017498\n",
              "No_Exit                   0.017498\n",
              "Railway                   0.017498\n",
              "Roundabout                0.017498\n",
              "Traffic_Signal            0.017498\n",
              "Station                   0.017498\n",
              "Give_Way                  0.017498\n",
              "Astronomical_Twilight     0.017498\n",
              "Country                   0.017498\n",
              "State                     0.017498\n",
              "County                    0.017498\n",
              "City                      0.017498\n",
              "Side                      0.017498\n",
              "Street                    0.017498\n",
              "Description               0.017498\n",
              "Distance(mi)              0.017498\n",
              "End_Lng                   0.017498\n",
              "Severity                  0.000000\n",
              "End_Lat                   0.000000\n",
              "Start_Lng                 0.000000\n",
              "Start_Lat                 0.000000\n",
              "End_Time                  0.000000\n",
              "Start_Time                0.000000\n",
              "ID                        0.000000\n",
              "dtype: float64"
            ]
          },
          "metadata": {},
          "execution_count": 9
        }
      ],
      "source": [
        "percentages=(missing_values/len(df))*100\n",
        "percentages"
      ]
    },
    {
      "cell_type": "code",
      "execution_count": 10,
      "metadata": {
        "colab": {
          "base_uri": "https://localhost:8080/",
          "height": 284
        },
        "id": "x1lyKw1PK_LX",
        "outputId": "0895dae1-6c9f-4b93-f73f-bbaaac310fe6"
      },
      "outputs": [
        {
          "output_type": "execute_result",
          "data": {
            "text/plain": [
              "<Axes: >"
            ]
          },
          "metadata": {},
          "execution_count": 10
        },
        {
          "output_type": "display_data",
          "data": {
            "text/plain": [
              "<Figure size 432x288 with 1 Axes>"
            ],
            "image/png": "[encoded data removed]"
          },
          "metadata": {
            "needs_background": "light"
          }
        }
      ],
      "source": [
        "percent_data=percentages[percentages!=0]\n",
        "percent_data.plot(kind=\"barh\")\n"
      ]
    },
    {
      "cell_type": "markdown",
      "metadata": {
        "id": "7OZkK4OCNKSy"
      },
      "source": [
        "Remove columns which we do not want!\n",
        "\n",
        "COLUMNS WE WILL ANALYZE -\n",
        "1)City (done)\n",
        "\n",
        "2)Start Time\n",
        "\n",
        "3)Start_Lat\n",
        "\n",
        "4)Temperature\n",
        "\n",
        "5)Weather Condition"
      ]
    },
    {
      "cell_type": "code",
      "execution_count": 11,
      "metadata": {
        "colab": {
          "base_uri": "https://localhost:8080/"
        },
        "id": "zD198J-ANQR7",
        "outputId": "335f8384-c5b3-4408-9dd9-58cdca1cd9be"
      },
      "outputs": [
        {
          "output_type": "execute_result",
          "data": {
            "text/plain": [
              "Index(['ID', 'Severity', 'Start_Time', 'End_Time', 'Start_Lat', 'Start_Lng',\n",
              "       'End_Lat', 'End_Lng', 'Distance(mi)', 'Description', 'Number', 'Street',\n",
              "       'Side', 'City', 'County', 'State', 'Zipcode', 'Country', 'Timezone',\n",
              "       'Airport_Code', 'Weather_Timestamp', 'Temperature(F)', 'Wind_Chill(F)',\n",
              "       'Humidity(%)', 'Pressure(in)', 'Visibility(mi)', 'Wind_Direction',\n",
              "       'Wind_Speed(mph)', 'Precipitation(in)', 'Weather_Condition', 'Amenity',\n",
              "       'Bump', 'Crossing', 'Give_Way', 'Junction', 'No_Exit', 'Railway',\n",
              "       'Roundabout', 'Station', 'Stop', 'Traffic_Calming', 'Traffic_Signal',\n",
              "       'Turning_Loop', 'Sunrise_Sunset', 'Civil_Twilight', 'Nautical_Twilight',\n",
              "       'Astronomical_Twilight'],\n",
              "      dtype='object')"
            ]
          },
          "metadata": {},
          "execution_count": 11
        }
      ],
      "source": [
        "df.columns"
      ]
    },
    {
      "cell_type": "code",
      "execution_count": 12,
      "metadata": {
        "colab": {
          "base_uri": "https://localhost:8080/"
        },
        "id": "LWeCAQUaOHvr",
        "outputId": "f4c2b865-7e47-4629-9dab-f8a5e3f8254b"
      },
      "outputs": [
        {
          "output_type": "execute_result",
          "data": {
            "text/plain": [
              "675"
            ]
          },
          "metadata": {},
          "execution_count": 12
        }
      ],
      "source": [
        "cities=df.City.unique()\n",
        "len(cities)"
      ]
    },
    {
      "cell_type": "code",
      "execution_count": 13,
      "metadata": {
        "colab": {
          "base_uri": "https://localhost:8080/"
        },
        "id": "iGf449N7O0Zo",
        "outputId": "678c05f3-169b-4119-9f9d-25d44cef9222"
      },
      "outputs": [
        {
          "output_type": "execute_result",
          "data": {
            "text/plain": [
              "Sacramento       398\n",
              "San Jose         367\n",
              "Oakland          190\n",
              "San Francisco    150\n",
              "Columbus         113\n",
              "                ... \n",
              "Kendallville       1\n",
              "Avilla             1\n",
              "Gustine            1\n",
              "San Gregorio       1\n",
              "Lynwood            1\n",
              "Name: City, Length: 674, dtype: int64"
            ]
          },
          "metadata": {},
          "execution_count": 13
        }
      ],
      "source": [
        "city=df[\"City\"]\n",
        "city_count=city.value_counts(ascending=False)\n",
        "city_count\n"
      ]
    },
    {
      "cell_type": "code",
      "execution_count": 29,
      "metadata": {
        "colab": {
          "base_uri": "https://localhost:8080/"
        },
        "id": "2L7rXHGJQ-dB",
        "outputId": "c66d35eb-095b-4ce0-92df-bf37097a06b7"
      },
      "outputs": [
        {
          "output_type": "execute_result",
          "data": {
            "text/plain": [
              "Lynwood    1\n",
              "Name: City, dtype: int64"
            ]
          },
          "metadata": {},
          "execution_count": 29
        }
      ],
      "source": [
        "city_count[:20]"
      ]
    },
    {
      "cell_type": "markdown",
      "metadata": {
        "id": "qhs2xRanSZxv"
      },
      "source": [
        "Ploting graph for top 10 cities with accidents"
      ]
    },
    {
      "cell_type": "code",
      "execution_count": 15,
      "metadata": {
        "colab": {
          "base_uri": "https://localhost:8080/",
          "height": 282
        },
        "id": "06-WKtZbSh8-",
        "outputId": "d9f24c8d-b747-4d6a-e94d-36be60c7146c"
      },
      "outputs": [
        {
          "output_type": "execute_result",
          "data": {
            "text/plain": [
              "<Axes: >"
            ]
          },
          "metadata": {},
          "execution_count": 15
        },
        {
          "output_type": "display_data",
          "data": {
            "text/plain": [
              "<Figure size 432x288 with 1 Axes>"
            ],
            "image/png": "[encoded data removed]"
          },
          "metadata": {
            "needs_background": "light"
          }
        }
      ],
      "source": [
        "city_count[:10].plot(kind=\"barh\")"
      ]
    },
    {
      "cell_type": "code",
      "source": [
        "import seaborn as sns\n",
        "sns.set_style(\"darkgrid\")\n",
        "\n",
        "sns.histplot(city_count , log_scale=True)"
      ],
      "metadata": {
        "colab": {
          "base_uri": "https://localhost:8080/",
          "height": 300
        },
        "id": "7ouPUTf0VjWM",
        "outputId": "346c6f96-39dc-4fb4-8d7b-8317a95e7a2a"
      },
      "execution_count": 16,
      "outputs": [
        {
          "output_type": "execute_result",
          "data": {
            "text/plain": [
              "<Axes: xlabel='City', ylabel='Count'>"
            ]
          },
          "metadata": {},
          "execution_count": 16
        },
        {
          "output_type": "display_data",
          "data": {
            "text/plain": [
              "<Figure size 432x288 with 1 Axes>"
            ],
            "image/png": "[encoded data removed]"
          },
          "metadata": {}
        }
      ]
    },
    {
      "cell_type": "code",
      "source": [
        "high_accidental_cities=city_count[city_count>100]\n",
        "low_accidental_cities=city_count[city_count<=100]\n",
        "\n",
        "high_percentage=(len(high_accidental_cities)/len(city_count))*100\n",
        "high_percentage"
      ],
      "metadata": {
        "colab": {
          "base_uri": "https://localhost:8080/"
        },
        "id": "z3IjASyXWbJm",
        "outputId": "e377d532-1a69-4be3-8cf6-92e2bac24029"
      },
      "execution_count": 17,
      "outputs": [
        {
          "output_type": "execute_result",
          "data": {
            "text/plain": [
              "1.0385756676557862"
            ]
          },
          "metadata": {},
          "execution_count": 17
        }
      ]
    },
    {
      "cell_type": "code",
      "source": [
        "city_count[city_count==2]"
      ],
      "metadata": {
        "colab": {
          "base_uri": "https://localhost:8080/"
        },
        "id": "x5Ouo_xCXxpg",
        "outputId": "cde37d6a-3a04-47d6-c6d5-f261009e7cf4"
      },
      "execution_count": 18,
      "outputs": [
        {
          "output_type": "execute_result",
          "data": {
            "text/plain": [
              "Cedar Grove      2\n",
              "Madison          2\n",
              "Buena Park       2\n",
              "Simi Valley      2\n",
              "Fairdale         2\n",
              "                ..\n",
              "Chino            2\n",
              "Boulder Creek    2\n",
              "Hawthorne        2\n",
              "Calexico         2\n",
              "Sugarcreek       2\n",
              "Name: City, Length: 129, dtype: int64"
            ]
          },
          "metadata": {},
          "execution_count": 18
        }
      ]
    },
    {
      "cell_type": "markdown",
      "source": [
        "START TIME"
      ],
      "metadata": {
        "id": "R5KKiXExYwYA"
      }
    },
    {
      "cell_type": "code",
      "source": [
        "dff=data.copy()\n",
        "\n",
        "dff.Start_Time\n",
        "\n"
      ],
      "metadata": {
        "colab": {
          "base_uri": "https://localhost:8080/"
        },
        "id": "oSbeCy52YzIC",
        "outputId": "9af74486-a842-44f3-a9a6-0a24c525c08a"
      },
      "execution_count": 19,
      "outputs": [
        {
          "output_type": "execute_result",
          "data": {
            "text/plain": [
              "0       2016-02-08 00:37:08\n",
              "1       2016-02-08 05:56:20\n",
              "2       2016-02-08 06:15:39\n",
              "3       2016-02-08 06:51:45\n",
              "4       2016-02-08 07:53:43\n",
              "               ...         \n",
              "5710    2016-03-30 10:17:47\n",
              "5711    2016-03-30 11:11:47\n",
              "5712    2016-03-30 11:36:24\n",
              "5713    2016-03-30 12:20:46\n",
              "5714    2016-03-30 12:28:43\n",
              "Name: Start_Time, Length: 5715, dtype: object"
            ]
          },
          "metadata": {},
          "execution_count": 19
        }
      ]
    },
    {
      "cell_type": "markdown",
      "source": [
        "Most frequent accidental time !\n",
        "14:44:43    8 times"
      ],
      "metadata": {
        "id": "i4SUp24IiTHn"
      }
    },
    {
      "cell_type": "code",
      "source": [
        "time=dff.Start_Time.str.split(\" \",expand=True)\n",
        "time_frequency=time[1].value_counts(ascending=False)\n",
        "time_frequency[:10]"
      ],
      "metadata": {
        "colab": {
          "base_uri": "https://localhost:8080/"
        },
        "id": "tWDj0iPbigkK",
        "outputId": "ed933d63-8000-4923-d526-83b7d7335fe2"
      },
      "execution_count": 26,
      "outputs": [
        {
          "output_type": "execute_result",
          "data": {
            "text/plain": [
              "14:44:43    8\n",
              "17:32:41    5\n",
              "14:20:01    5\n",
              "17:04:42    5\n",
              "09:47:53    4\n",
              "09:13:49    4\n",
              "06:55:50    4\n",
              "23:05:24    4\n",
              "18:17:02    4\n",
              "19:14:49    4\n",
              "Name: 1, dtype: int64"
            ]
          },
          "metadata": {},
          "execution_count": 26
        }
      ]
    },
    {
      "cell_type": "markdown",
      "source": [
        "Start Latitude & Longitude "
      ],
      "metadata": {
        "id": "UjdFlPY4kcib"
      }
    },
    {
      "cell_type": "code",
      "source": [
        "dff.Start_Lat"
      ],
      "metadata": {
        "colab": {
          "base_uri": "https://localhost:8080/"
        },
        "id": "dCbmoErxkg59",
        "outputId": "b52baf5a-340d-4430-aaa3-162fce642a71"
      },
      "execution_count": 21,
      "outputs": [
        {
          "output_type": "execute_result",
          "data": {
            "text/plain": [
              "0       40.108910\n",
              "1       39.865420\n",
              "2       39.102660\n",
              "3       41.062130\n",
              "4       39.172393\n",
              "          ...    \n",
              "5710    34.159520\n",
              "5711    34.156810\n",
              "5712    34.036190\n",
              "5713    34.148060\n",
              "5714    33.915130\n",
              "Name: Start_Lat, Length: 5715, dtype: float64"
            ]
          },
          "metadata": {},
          "execution_count": 21
        }
      ]
    },
    {
      "cell_type": "code",
      "source": [
        "dff.Start_Lng"
      ],
      "metadata": {
        "colab": {
          "base_uri": "https://localhost:8080/"
        },
        "id": "ZlolIu9XkqtL",
        "outputId": "1a6c1c2f-4d0a-48bf-c26f-9a572783100c"
      },
      "execution_count": 22,
      "outputs": [
        {
          "output_type": "execute_result",
          "data": {
            "text/plain": [
              "0       -83.092860\n",
              "1       -84.062800\n",
              "2       -84.524680\n",
              "3       -81.537840\n",
              "4       -84.492792\n",
              "           ...    \n",
              "5710   -118.464410\n",
              "5711   -118.410380\n",
              "5712   -118.320570\n",
              "5713   -118.279570\n",
              "5714   -118.187260\n",
              "Name: Start_Lng, Length: 5715, dtype: float64"
            ]
          },
          "metadata": {},
          "execution_count": 22
        }
      ]
    },
    {
      "cell_type": "code",
      "source": [
        "import matplotlib.pyplot as plt\n",
        "\n",
        "x=dff.Start_Lat\n",
        "y=dff.Start_Lng\n",
        "\n",
        "plt.scatter(x,y)\n",
        "plt.grid()\n",
        "plt.show()"
      ],
      "metadata": {
        "colab": {
          "base_uri": "https://localhost:8080/",
          "height": 265
        },
        "id": "I89ScT0KkwCM",
        "outputId": "1391eaad-2b2f-4545-a344-e076a711aa30"
      },
      "execution_count": 23,
      "outputs": [
        {
          "output_type": "display_data",
          "data": {
            "text/plain": [
              "<Figure size 432x288 with 1 Axes>"
            ],
            "image/png": "[encoded data removed]"
          },
          "metadata": {}
        }
      ]
    },
    {
      "cell_type": "code",
      "source": [
        "sns.scatterplot(x=dff.Start_Lng,y=dff.Start_Lat , size=0.001)"
      ],
      "metadata": {
        "colab": {
          "base_uri": "https://localhost:8080/",
          "height": 297
        },
        "id": "ZCVvx7pzloE1",
        "outputId": "bc888014-0d2b-4ff0-db2b-f57e01fe4753"
      },
      "execution_count": 24,
      "outputs": [
        {
          "output_type": "execute_result",
          "data": {
            "text/plain": [
              "<Axes: xlabel='Start_Lng', ylabel='Start_Lat'>"
            ]
          },
          "metadata": {},
          "execution_count": 24
        },
        {
          "output_type": "display_data",
          "data": {
            "text/plain": [
              "<Figure size 432x288 with 1 Axes>"
            ],
            "image/png": "[encoded data removed]"
          },
          "metadata": {}
        }
      ]
    },
    {
      "cell_type": "code",
      "source": [
        "import folium\n",
        "from folium.plugins import HeatMap\n",
        "# lat , lon = dff.Start_Lat[0:101] , dff.Start_Lng[0:101]\n",
        "map=folium.Map()\n",
        "\n",
        "HeatMap(zip(list(dff.Start_Lat[0:101]),list(dff.Start_Lng[0:101]))).add_to(map)\n",
        "map"
      ],
      "metadata": {
        "colab": {
          "base_uri": "https://localhost:8080/",
          "height": 583
        },
        "id": "bEi25nzJmMev",
        "outputId": "eed0d7dd-0c7d-4495-927c-6bfbc131b097"
      },
      "execution_count": 30,
      "outputs": [
        {
          "output_type": "execute_result",
          "data": {
            "text/plain": [
              "<folium.folium.Map at 0x7f65c55a9d60>"
            ],
            "text/html": [
              "<div style=\"width:100%;\"><div style=\"position:relative;width:100%;height:0;padding-bottom:60%;\"><span style=\"color:#565656\">Make this Notebook Trusted to load map: File -> Trust Notebook</span><iframe srcdoc=\"&lt;!DOCTYPE html&gt;\n",
              "&lt;html&gt;\n",
              "&lt;head&gt;\n",
              "    \n",
              "    &lt;meta http-equiv=&quot;content-type&quot; content=&quot;text/html; charset=UTF-8&quot; /&gt;\n",
              "    \n",
              "        &lt;script&gt;\n",
              "            L_NO_TOUCH = false;\n",
              "            L_DISABLE_3D = false;\n",
              "        &lt;/script&gt;\n",
              "    \n",
              "    &lt;style&gt;html, body {width: 100%;height: 100%;margin: 0;padding: 0;}&lt;/style&gt;\n",
              "    &lt;style&gt;#map {position:absolute;top:0;bottom:0;right:0;left:0;}&lt;/style&gt;\n",
              "    &lt;script src=&quot;https://cdn.jsdelivr.net/npm/leaflet@1.9.3/dist/leaflet.js&quot;&gt;&lt;/script&gt;\n",
              "    &lt;script src=&quot;https://code.jquery.com/jquery-1.12.4.min.js&quot;&gt;&lt;/script&gt;\n",
              "    &lt;script src=&quot;https://cdn.jsdelivr.net/npm/bootstrap@5.2.2/dist/js/bootstrap.bundle.min.js&quot;&gt;&lt;/script&gt;\n",
              "    &lt;script src=&quot;https://cdnjs.cloudflare.com/ajax/libs/Leaflet.awesome-markers/2.0.2/leaflet.awesome-markers.js&quot;&gt;&lt;/script&gt;\n",
              "    &lt;link rel=&quot;stylesheet&quot; href=&quot;https://cdn.jsdelivr.net/npm/leaflet@1.9.3/dist/leaflet.css&quot;/&gt;\n",
              "    &lt;link rel=&quot;stylesheet&quot; href=&quot;https://cdn.jsdelivr.net/npm/bootstrap@5.2.2/dist/css/bootstrap.min.css&quot;/&gt;\n",
              "    &lt;link rel=&quot;stylesheet&quot; href=&quot;https://netdna.bootstrapcdn.com/bootstrap/3.0.0/css/bootstrap.min.css&quot;/&gt;\n",
              "    &lt;link rel=&quot;stylesheet&quot; href=&quot;https://cdn.jsdelivr.net/npm/@fortawesome/fontawesome-free@6.2.0/css/all.min.css&quot;/&gt;\n",
              "    &lt;link rel=&quot;stylesheet&quot; href=&quot;https://cdnjs.cloudflare.com/ajax/libs/Leaflet.awesome-markers/2.0.2/leaflet.awesome-markers.css&quot;/&gt;\n",
              "    &lt;link rel=&quot;stylesheet&quot; href=&quot;https://cdn.jsdelivr.net/gh/python-visualization/folium/folium/templates/leaflet.awesome.rotate.min.css&quot;/&gt;\n",
              "    \n",
              "            &lt;meta name=&quot;viewport&quot; content=&quot;width=device-width,\n",
              "                initial-scale=1.0, maximum-scale=1.0, user-scalable=no&quot; /&gt;\n",
              "            &lt;style&gt;\n",
              "                #map_77375099cf6d87e50f06f9e7a769b5a3 {\n",
              "                    position: relative;\n",
              "                    width: 100.0%;\n",
              "                    height: 100.0%;\n",
              "                    left: 0.0%;\n",
              "                    top: 0.0%;\n",
              "                }\n",
              "                .leaflet-container { font-size: 1rem; }\n",
              "            &lt;/style&gt;\n",
              "        \n",
              "    &lt;script src=&quot;https://cdn.jsdelivr.net/gh/python-visualization/folium@main/folium/templates/leaflet_heat.min.js&quot;&gt;&lt;/script&gt;\n",
              "&lt;/head&gt;\n",
              "&lt;body&gt;\n",
              "    \n",
              "    \n",
              "            &lt;div class=&quot;folium-map&quot; id=&quot;map_77375099cf6d87e50f06f9e7a769b5a3&quot; &gt;&lt;/div&gt;\n",
              "        \n",
              "&lt;/body&gt;\n",
              "&lt;script&gt;\n",
              "    \n",
              "    \n",
              "            var map_77375099cf6d87e50f06f9e7a769b5a3 = L.map(\n",
              "                &quot;map_77375099cf6d87e50f06f9e7a769b5a3&quot;,\n",
              "                {\n",
              "                    center: [0, 0],\n",
              "                    crs: L.CRS.EPSG3857,\n",
              "                    zoom: 1,\n",
              "                    zoomControl: true,\n",
              "                    preferCanvas: false,\n",
              "                }\n",
              "            );\n",
              "\n",
              "            \n",
              "\n",
              "        \n",
              "    \n",
              "            var tile_layer_3fbcdf362c01e397b18cb0cfd62f4961 = L.tileLayer(\n",
              "                &quot;https://{s}.tile.openstreetmap.org/{z}/{x}/{y}.png&quot;,\n",
              "                {&quot;attribution&quot;: &quot;Data by \\u0026copy; \\u003ca target=\\&quot;_blank\\&quot; href=\\&quot;http://openstreetmap.org\\&quot;\\u003eOpenStreetMap\\u003c/a\\u003e, under \\u003ca target=\\&quot;_blank\\&quot; href=\\&quot;http://www.openstreetmap.org/copyright\\&quot;\\u003eODbL\\u003c/a\\u003e.&quot;, &quot;detectRetina&quot;: false, &quot;maxNativeZoom&quot;: 18, &quot;maxZoom&quot;: 18, &quot;minZoom&quot;: 0, &quot;noWrap&quot;: false, &quot;opacity&quot;: 1, &quot;subdomains&quot;: &quot;abc&quot;, &quot;tms&quot;: false}\n",
              "            ).addTo(map_77375099cf6d87e50f06f9e7a769b5a3);\n",
              "        \n",
              "    \n",
              "            var heat_map_7a55828f182747f809f17a9b05b0f1bc = L.heatLayer(\n",
              "                [[40.10891, -83.09286], [39.86542, -84.0628], [39.10266, -84.52468], [41.06213, -81.53784], [39.172393, -84.49279200000002], [39.06324, -84.03243], [39.77565, -84.18603], [41.37531, -81.82016999999998], [40.702247, -84.075887], [40.10931, -82.96849], [39.19288, -84.47723], [39.13877, -84.53394], [41.4739, -81.704233], [39.582242, -83.677814], [40.151785, -81.312635], [40.151747, -81.312682], [39.97241, -82.84695], [39.9838, -82.85656999999998], [40.02664, -82.9944], [41.679361, -83.573037], [40.99613, -85.26613], [39.0381, -84.59243000000002], [40.03386, -82.99601], [39.85798, -84.28181], [39.15267, -84.5395], [39.30732, -85.95982], [39.77572, -84.04815], [39.97643, -83.12306], [39.58595, -85.82518], [39.3638, -85.51659000000002], [39.45132, -85.62516], [39.75067, -84.14148], [39.2675, -81.49929], [39.86025, -85.96623000000002], [41.95677, -83.67214], [38.27401, -85.74844], [41.95677, -83.67214], [40.52225, -80.06666], [40.487814, -80.009439], [40.156298, -83.018431], [41.47461, -81.71181999999997], [41.0618, -81.54608], [40.45112, -85.15048], [40.35429, -85.14993], [39.75855, -85.13715], [39.74408, -85.13749], [39.965148, -83.020499], [40.72813, -84.78965], [39.85223, -85.25846999999997], [41.46747, -81.75909], [41.83193, -80.10143000000002], [39.744287, -84.204939], [39.71548, -84.22033], [39.7504, -84.20561], [41.72316, -84.96444], [40.04376, -82.99708000000003], [38.1781, -85.71946], [38.18577, -85.80678], [38.27191, -85.80838], [39.923905, -82.87008], [41.035566, -81.569917], [39.9239, -83.68767], [41.851914, -80.175232], [39.93849, -82.84849], [38.96943, -80.1096], [41.66805, -83.57063000000002], [41.48339, -81.66297], [41.50127, -81.4804], [39.789093, -82.989106], [41.67073, -81.24561], [41.70846, -81.17636], [41.44246, -81.78485], [39.77128, -84.1923], [41.50499, -81.47417], [40.109653, -80.2029], [38.38852, -81.7687], [41.03572, -81.57809], [41.47487, -81.72095], [41.62845, -84.80559000000002], [41.62894, -84.80373], [41.16102, -81.78573], [41.628232, -84.808858], [41.62986, -84.76619000000002], [39.74729, -84.21426], [41.42099, -81.69051999999998], [41.42318, -81.84674], [38.79691, -84.48273], [38.80878, -84.49638], [38.30155, -85.85499], [38.33667, -81.65623000000002], [38.33614, -81.65623000000002], [41.0961, -81.58593], [41.12155, -85.18715999999998], [38.829993, -80.667067], [40.05642, -83.03097], [41.37717, -81.5139], [39.17397, -84.49031], [39.75513, -84.16614], [39.17397, -84.49031], [41.12624, -81.65299], [38.33667, -81.65623000000002]],\n",
              "                {&quot;blur&quot;: 15, &quot;maxZoom&quot;: 18, &quot;minOpacity&quot;: 0.5, &quot;radius&quot;: 25}\n",
              "            ).addTo(map_77375099cf6d87e50f06f9e7a769b5a3);\n",
              "        \n",
              "&lt;/script&gt;\n",
              "&lt;/html&gt;\" style=\"position:absolute;width:100%;height:100%;left:0;top:0;border:none !important;\" allowfullscreen webkitallowfullscreen mozallowfullscreen></iframe></div></div>"
            ]
          },
          "metadata": {},
          "execution_count": 30
        }
      ]
    },
    {
      "cell_type": "code",
      "source": [
        "dff.columns"
      ],
      "metadata": {
        "colab": {
          "base_uri": "https://localhost:8080/"
        },
        "id": "ATDL23-npp0A",
        "outputId": "820c2a5e-ee84-48b8-f91b-971f869113d2"
      },
      "execution_count": 31,
      "outputs": [
        {
          "output_type": "execute_result",
          "data": {
            "text/plain": [
              "Index(['ID', 'Severity', 'Start_Time', 'End_Time', 'Start_Lat', 'Start_Lng',\n",
              "       'End_Lat', 'End_Lng', 'Distance(mi)', 'Description', 'Number', 'Street',\n",
              "       'Side', 'City', 'County', 'State', 'Zipcode', 'Country', 'Timezone',\n",
              "       'Airport_Code', 'Weather_Timestamp', 'Temperature(F)', 'Wind_Chill(F)',\n",
              "       'Humidity(%)', 'Pressure(in)', 'Visibility(mi)', 'Wind_Direction',\n",
              "       'Wind_Speed(mph)', 'Precipitation(in)', 'Weather_Condition', 'Amenity',\n",
              "       'Bump', 'Crossing', 'Give_Way', 'Junction', 'No_Exit', 'Railway',\n",
              "       'Roundabout', 'Station', 'Stop', 'Traffic_Calming', 'Traffic_Signal',\n",
              "       'Turning_Loop', 'Sunrise_Sunset', 'Civil_Twilight', 'Nautical_Twilight',\n",
              "       'Astronomical_Twilight'],\n",
              "      dtype='object')"
            ]
          },
          "metadata": {},
          "execution_count": 31
        }
      ]
    },
    {
      "cell_type": "code",
      "source": [
        "weather=dff[\"Weather_Condition\"].value_counts()\n",
        "weather"
      ],
      "metadata": {
        "colab": {
          "base_uri": "https://localhost:8080/"
        },
        "id": "x2vp4CCaqb8T",
        "outputId": "aab81d06-090e-467f-b515-54f6e3121deb"
      },
      "execution_count": 35,
      "outputs": [
        {
          "output_type": "execute_result",
          "data": {
            "text/plain": [
              "Clear                           2562\n",
              "Overcast                         855\n",
              "Mostly Cloudy                    692\n",
              "Partly Cloudy                    642\n",
              "Scattered Clouds                 526\n",
              "Light Rain                       131\n",
              "Light Snow                       119\n",
              "Rain                              35\n",
              "Haze                              34\n",
              "Snow                              14\n",
              "Fair                               9\n",
              "Light Drizzle                      9\n",
              "Cloudy                             8\n",
              "Heavy Rain                         5\n",
              "Fog                                5\n",
              "Light Freezing Drizzle             4\n",
              "Drizzle                            4\n",
              "Thunderstorms and Rain             1\n",
              "Patches of Fog                     1\n",
              "Light Thunderstorms and Rain       1\n",
              "Name: Weather_Condition, dtype: int64"
            ]
          },
          "metadata": {},
          "execution_count": 35
        }
      ]
    },
    {
      "cell_type": "markdown",
      "source": [
        "SUMMARY & CONCLUSION\n",
        "\n",
        "\n",
        "\n",
        "*   No data from ney york\n",
        "*   Around 10% of cities have more than 100 accidents per year.\n",
        "*   Highest frequency of accidents is in Daytime .\n",
        "*   Sacramento San Jose has highest number of accidents i.e. 398 and 367 respectively.\n",
        "*   Most accidents happened in Clear weather (2562)\n",
        "*   Thunderstorms & Rain has only 2 accidents .\n",
        "\n",
        "\n",
        "\n",
        "\n",
        "\n"
      ],
      "metadata": {
        "id": "A3hmtdF0kJ6i"
      }
    }
  ],
  "metadata": {
    "colab": {
      "provenance": [],
      "authorship_tag": "ABX9TyOMboScek+Tejc91TTyyHYI",
      "include_colab_link": true
    },
    "kernelspec": {
      "display_name": "Python 3",
      "name": "python3"
    },
    "language_info": {
      "name": "python"
    }
  },
  "nbformat": 4,
  "nbformat_minor": 0
}